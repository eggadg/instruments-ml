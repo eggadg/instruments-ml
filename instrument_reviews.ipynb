{
 "cells": [
  {
   "cell_type": "markdown",
   "id": "496aa535-4160-4422-87df-fcd244f29563",
   "metadata": {},
   "source": [
    "## Musical Instrument Review Classifier (Amazon Data)"
   ]
  },
  {
   "cell_type": "markdown",
   "id": "8e82f19d-77a8-450a-9dd8-91c53fdb1b73",
   "metadata": {},
   "source": [
    "### Training a ML model using SciKit-Learn\n",
    "#### Dataset source: http://jmcauley.ucsd.edu/data/amazon/\n",
    "* by Ege
   ]
  },
  {
   "cell_type": "markdown",
   "id": "41d7faed-156b-49bc-bc3c-2759a7853f65",
   "metadata": {},
   "source": [
    "#### Create Classes for Code Consistency"
   ]
  },
  {
   "cell_type": "code",
   "execution_count": 1,
   "id": "1ce8f6cd-95e9-4f1d-ac2e-3466907089a6",
   "metadata": {},
   "outputs": [],
   "source": [
    "import random\n",
    "\n",
    "class Sentiment:\n",
    "    NEGATIVE = 'NEGATIVE'\n",
    "    NEUTRAL = 'NEUTRAL' #We won't be using neutral in our model though :). \n",
    "    POSITIVE = 'POSITIVE'\n",
    "\n",
    "class Review:\n",
    "    def __init__(self, text, score):\n",
    "        self.text = text\n",
    "        self.score = score\n",
    "        self.sentiment = self.get_sentiment()\n",
    "        \n",
    "    def get_sentiment(self):\n",
    "        if self.score <= 2:\n",
    "            return Sentiment.NEGATIVE\n",
    "        elif self.score == 3:\n",
    "            return Sentiment.NEUTRAL\n",
    "        else:\n",
    "            return Sentiment.POSITIVE\n",
    "        \n",
    "class ReviewContainer:\n",
    "    def __init__(self, reviews):\n",
    "        self.reviews= reviews\n",
    "    \n",
    "    def get_text(self):\n",
    "        return [x.text for x in self.reviews]\n",
    "    \n",
    "    def get_sentiment(self):\n",
    "        return [x.sentiment for x in self.reviews]\n",
    "    \n",
    "    def evenly_distribute(self):\n",
    "        negative = list(filter(lambda x: x.sentiment == Sentiment.NEGATIVE, self.reviews))\n",
    "        positive = list(filter(lambda x: x.sentiment == Sentiment.POSITIVE, self.reviews))\n",
    "        positive_shrunk = positive[:len(negative)] #Evenly distribute the data for better F1 Score\n",
    "        \n",
    "        self.reviews = negative + positive_shrunk\n",
    "        random.shuffle(self.reviews) #Shuffle the data "
   ]
  },
  {
   "cell_type": "markdown",
   "id": "f25e5f34-bfe1-4cf6-86d0-29de436c39bf",
   "metadata": {},
   "source": [
    "#### Import Data"
   ]
  },
  {
   "cell_type": "code",
   "execution_count": 2,
   "id": "5e3cae10-88ee-44da-99cb-04c3f380b715",
   "metadata": {},
   "outputs": [],
   "source": [
    "import json "
   ]
  },
  {
   "cell_type": "code",
   "execution_count": 3,
   "id": "ea9e0612-a250-45ee-bf12-5d738596bb5c",
   "metadata": {},
   "outputs": [],
   "source": [
    "file = './Musical_Instruments_5.json'\n",
    "\n",
    "reviews = []\n",
    "with open(file,'r') as f:\n",
    "    for line in f:\n",
    "        review = json.loads(line)\n",
    "        reviews.append(Review(review['reviewText'], review['overall'])) #Append the Review class objects to the list "
   ]
  },
  {
   "cell_type": "markdown",
   "id": "cf6829a4-a4bd-419d-9d4b-7470261347a3",
   "metadata": {},
   "source": [
    "* Try if our classes/code is working properly"
   ]
  },
  {
   "cell_type": "code",
   "execution_count": 4,
   "id": "659f4fe0-43e5-41d6-84c2-548e3ac5d380",
   "metadata": {},
   "outputs": [
    {
     "name": "stdout",
     "output_type": "stream",
     "text": [
      "Score:  5.0\n",
      "Review text:  So good that I bought another one.  Love the heavy cord and gold connectors.  Bass sounds great.  I just learned last night how to coil them up.  I guess I should read instructions more carefully.  But no harm done, still works great!\n",
      "Sentiment:  POSITIVE\n"
     ]
    }
   ],
   "source": [
    "print('Score: ' , reviews[5].score)\n",
    "print('Review text: ' , reviews[5].text)\n",
    "print('Sentiment: ' , reviews[5].get_sentiment())"
   ]
  },
  {
   "cell_type": "markdown",
   "id": "4a6a1677-c640-46f7-927d-7fddfa32ab8c",
   "metadata": {},
   "source": [
    "#### Preparing Data with SciKitLearn"
   ]
  },
  {
   "cell_type": "code",
   "execution_count": 5,
   "id": "fce6509f-5212-43ea-845a-e4d75a9c8339",
   "metadata": {},
   "outputs": [],
   "source": [
    "from sklearn.model_selection import train_test_split\n",
    "training, test = train_test_split(reviews, test_size=0.30, random_state = 3)\n",
    "\n",
    "train_container = ReviewContainer(training)\n",
    "test_container = ReviewContainer(test)\n",
    "\n",
    "train_container.evenly_distribute() #Evenly distribute the negative and positive reviews for better precision\n",
    "train_x = train_container.get_text() #We are going to use this\n",
    "train_y = train_container.get_sentiment() #To predict this\n",
    "\n",
    "test_container.evenly_distribute() #Same for our test sample \n",
    "test_x = test_container.get_text()\n",
    "test_y = test_container.get_sentiment()"
   ]
  },
  {
   "cell_type": "code",
   "execution_count": 6,
   "id": "5bb5cc7f-bc4f-4ada-a35c-ab4f47d95b21",
   "metadata": {},
   "outputs": [
    {
     "name": "stdout",
     "output_type": "stream",
     "text": [
      "328\n",
      "328\n"
     ]
    }
   ],
   "source": [
    "#Check if evenly_distribute() worked\n",
    "print(train_y.count(Sentiment.POSITIVE))\n",
    "print(train_y.count(Sentiment.NEGATIVE))"
   ]
  },
  {
   "cell_type": "markdown",
   "id": "0780f1e1-b513-44e7-b0e8-ddf4e9e8f913",
   "metadata": {},
   "source": [
    "#### Bags of Words - NLP"
   ]
  },
  {
   "cell_type": "code",
   "execution_count": 7,
   "id": "2cb04f3e-fe98-437e-81fd-63a1b17cd9a9",
   "metadata": {},
   "outputs": [],
   "source": [
    "from sklearn.feature_extraction.text import TfidfVectorizer\n",
    "vectorizer = TfidfVectorizer()\n",
    "\n",
    "#Convert strings to arrays so our model can work with them.\n",
    "train_x_vectors = vectorizer.fit_transform(train_x)\n",
    "test_x_vectors = vectorizer.transform(test_x)"
   ]
  },
  {
   "cell_type": "markdown",
   "id": "56428093-c5b2-4d0a-86cb-299ef161fb5a",
   "metadata": {},
   "source": [
    "### Testing Different Classification Models"
   ]
  },
  {
   "cell_type": "markdown",
   "id": "45a4e3a3-64ba-4326-bd3d-24cea018cd3b",
   "metadata": {},
   "source": [
    "#### Linear SVM"
   ]
  },
  {
   "cell_type": "code",
   "execution_count": 8,
   "id": "01ce8fa0-7221-424b-a85e-d7462559de82",
   "metadata": {},
   "outputs": [
    {
     "data": {
      "text/plain": [
       "SVC(kernel='linear')"
      ]
     },
     "execution_count": 8,
     "metadata": {},
     "output_type": "execute_result"
    }
   ],
   "source": [
    "from sklearn import svm\n",
    "c_svm = svm.SVC(kernel='linear')\n",
    "c_svm.fit(train_x_vectors, train_y)"
   ]
  },
  {
   "cell_type": "code",
   "execution_count": 9,
   "id": "c6dcebd9-67bc-4277-8bb7-fb8247cce07e",
   "metadata": {},
   "outputs": [
    {
     "name": "stdout",
     "output_type": "stream",
     "text": [
      "TC is very overrated.Many pedals I have out performs this in my opinion.  The vintage BBDs (MXR Vintage DElay, Morley 70's echo) for example just take it.  But for newer pedals I liked the MXR Carbon Copy and Ibanex DE 7 much better.\n"
     ]
    },
    {
     "data": {
      "text/plain": [
       "array(['NEGATIVE'], dtype='<U8')"
      ]
     },
     "execution_count": 9,
     "metadata": {},
     "output_type": "execute_result"
    }
   ],
   "source": [
    "#Test our model in our test set \n",
    "print(test_x[1])\n",
    "c_svm.predict(test_x_vectors[1])"
   ]
  },
  {
   "cell_type": "markdown",
   "id": "a7c1b272-c95d-49f1-9113-9b48df97c918",
   "metadata": {},
   "source": [
    "#### Decision Tree"
   ]
  },
  {
   "cell_type": "code",
   "execution_count": 10,
   "id": "7fbcaeb3-656b-4ee7-b663-fa6c9b4d214a",
   "metadata": {},
   "outputs": [
    {
     "data": {
      "text/plain": [
       "DecisionTreeClassifier(random_state=6)"
      ]
     },
     "execution_count": 10,
     "metadata": {},
     "output_type": "execute_result"
    }
   ],
   "source": [
    "from sklearn.tree import DecisionTreeClassifier \n",
    "c_dec = DecisionTreeClassifier(random_state=6)\n",
    "c_dec.fit(train_x_vectors, train_y)"
   ]
  },
  {
   "cell_type": "code",
   "execution_count": 11,
   "id": "cbabd2fc-ebe0-4f0b-8ab3-cc2182aec658",
   "metadata": {},
   "outputs": [
    {
     "name": "stdout",
     "output_type": "stream",
     "text": [
      "TC is very overrated.Many pedals I have out performs this in my opinion.  The vintage BBDs (MXR Vintage DElay, Morley 70's echo) for example just take it.  But for newer pedals I liked the MXR Carbon Copy and Ibanex DE 7 much better.\n"
     ]
    },
    {
     "data": {
      "text/plain": [
       "array(['NEGATIVE'], dtype='<U8')"
      ]
     },
     "execution_count": 11,
     "metadata": {},
     "output_type": "execute_result"
    }
   ],
   "source": [
    "#Test our model in our test set \n",
    "print(test_x[1])\n",
    "c_dec.predict(test_x_vectors[1])"
   ]
  },
  {
   "cell_type": "markdown",
   "id": "49f2ae01-65d3-4f05-bbd9-7d7e09deb203",
   "metadata": {},
   "source": [
    "#### Gaussian Naive Bayes"
   ]
  },
  {
   "cell_type": "code",
   "execution_count": 12,
   "id": "442fc56e-6f0c-4221-bf68-77abac7dcb5d",
   "metadata": {},
   "outputs": [
    {
     "data": {
      "text/plain": [
       "GaussianNB()"
      ]
     },
     "execution_count": 12,
     "metadata": {},
     "output_type": "execute_result"
    }
   ],
   "source": [
    "from sklearn.naive_bayes import GaussianNB\n",
    "c_gnb = GaussianNB()\n",
    "c_gnb.fit(train_x_vectors.toarray(), train_y)"
   ]
  },
  {
   "cell_type": "code",
   "execution_count": 13,
   "id": "a6fd9885-276f-4b1c-97f0-36cd2142a90a",
   "metadata": {},
   "outputs": [
    {
     "name": "stdout",
     "output_type": "stream",
     "text": [
      "TC is very overrated.Many pedals I have out performs this in my opinion.  The vintage BBDs (MXR Vintage DElay, Morley 70's echo) for example just take it.  But for newer pedals I liked the MXR Carbon Copy and Ibanex DE 7 much better.\n"
     ]
    },
    {
     "data": {
      "text/plain": [
       "array(['NEGATIVE'], dtype='<U8')"
      ]
     },
     "execution_count": 13,
     "metadata": {},
     "output_type": "execute_result"
    }
   ],
   "source": [
    "#Test our model in our test set \n",
    "print(test_x[1])\n",
    "c_gnb.predict(test_x_vectors[1].toarray())"
   ]
  },
  {
   "cell_type": "markdown",
   "id": "936341ca-d74c-4e2b-a10b-0fb98efff72c",
   "metadata": {},
   "source": [
    "#### Logistic Regression"
   ]
  },
  {
   "cell_type": "code",
   "execution_count": 14,
   "id": "27747a1d-ea36-4ab2-8f46-0fcac8a6b380",
   "metadata": {},
   "outputs": [
    {
     "data": {
      "text/plain": [
       "LogisticRegression()"
      ]
     },
     "execution_count": 14,
     "metadata": {},
     "output_type": "execute_result"
    }
   ],
   "source": [
    "from sklearn.linear_model  import LogisticRegression\n",
    "c_logreg = LogisticRegression()\n",
    "c_logreg.fit(train_x_vectors, train_y)"
   ]
  },
  {
   "cell_type": "code",
   "execution_count": 15,
   "id": "c8aa7189-fffc-4ae6-b71d-2da704667c96",
   "metadata": {},
   "outputs": [
    {
     "name": "stdout",
     "output_type": "stream",
     "text": [
      "TC is very overrated.Many pedals I have out performs this in my opinion.  The vintage BBDs (MXR Vintage DElay, Morley 70's echo) for example just take it.  But for newer pedals I liked the MXR Carbon Copy and Ibanex DE 7 much better.\n"
     ]
    },
    {
     "data": {
      "text/plain": [
       "array(['POSITIVE'], dtype='<U8')"
      ]
     },
     "execution_count": 15,
     "metadata": {},
     "output_type": "execute_result"
    }
   ],
   "source": [
    "#Test our model in our test set \n",
    "print(test_x[1])\n",
    "c_logreg.predict(test_x_vectors[1])"
   ]
  },
  {
   "cell_type": "markdown",
   "id": "5cf667e7-198c-4289-b4dd-e038d6adb7ca",
   "metadata": {},
   "source": [
    "### Evaluate Models"
   ]
  },
  {
   "cell_type": "markdown",
   "id": "cbfcbdb6-8114-4b02-8b42-3677c8be49c4",
   "metadata": {},
   "source": [
    "* Mean Accuracies"
   ]
  },
  {
   "cell_type": "code",
   "execution_count": 16,
   "id": "779f4290-c428-4433-8b77-30f28139be91",
   "metadata": {},
   "outputs": [
    {
     "name": "stdout",
     "output_type": "stream",
     "text": [
      "0.7913669064748201\n",
      "0.6690647482014388\n",
      "0.6115107913669064\n",
      "0.7589928057553957\n"
     ]
    }
   ],
   "source": [
    "print(c_svm.score(test_x_vectors, test_y))\n",
    "print(c_dec.score(test_x_vectors, test_y))\n",
    "print(c_gnb.score(test_x_vectors.toarray(), test_y))\n",
    "print(c_logreg.score(test_x_vectors, test_y))"
   ]
  },
  {
   "cell_type": "markdown",
   "id": "24fdc5c1-8192-421e-b512-3621e8917e4a",
   "metadata": {},
   "source": [
    "* F1 Scores"
   ]
  },
  {
   "cell_type": "code",
   "execution_count": 32,
   "id": "8e146ca5-b33a-4c44-95b2-c873fe64088a",
   "metadata": {},
   "outputs": [
    {
     "name": "stdout",
     "output_type": "stream",
     "text": [
      "SVM:  [0.79432624 0.78832117]\n",
      "DEC TREE:  [0.66906475 0.66906475]\n",
      "GNB:  [0.59701493 0.625     ]\n",
      "LOGREG:  [0.75985663 0.75812274]\n"
     ]
    }
   ],
   "source": [
    "from sklearn import metrics\n",
    "\n",
    "print(\"SVM: \",f1_score(test_y, c_svm.predict(test_x_vectors), average=None, labels=[Sentiment.POSITIVE, Sentiment.NEGATIVE] ))\n",
    "print(\"DEC TREE: \",f1_score(test_y, c_dec.predict(test_x_vectors), average=None, labels=[Sentiment.POSITIVE,  Sentiment.NEGATIVE] ))\n",
    "print(\"GNB: \",f1_score(test_y, c_gnb.predict(test_x_vectors.toarray()), average=None, labels=[Sentiment.POSITIVE, Sentiment.NEGATIVE] ))\n",
    "print(\"LOGREG: \", f1_score(test_y, c_logreg.predict(test_x_vectors), average=None, labels=[Sentiment.POSITIVE, Sentiment.NEGATIVE] ))"
   ]
  },
  {
   "cell_type": "markdown",
   "id": "af2fe1bd-4e87-4410-a720-1a785b97af4d",
   "metadata": {},
   "source": [
    "* Confusion Matricies"
   ]
  },
  {
   "cell_type": "code",
   "execution_count": 35,
   "id": "ab308e2e-8dfe-45d3-8355-1033e493f0dc",
   "metadata": {},
   "outputs": [
    {
     "name": "stdout",
     "output_type": "stream",
     "text": [
      "SVM:\n",
      " [[108  31]\n",
      " [ 27 112]]\n",
      "DEC:\n",
      " [[93 46]\n",
      " [46 93]]\n",
      "GNB:\n",
      " [[90 49]\n",
      " [59 80]]\n",
      "LOGREG:\n",
      " [[105  34]\n",
      " [ 33 106]]\n"
     ]
    }
   ],
   "source": [
    "pred_y_svm = c_svm.predict(test_x_vectors)\n",
    "print(\"SVM:\\n\",metrics.confusion_matrix(test_y, pred_y_svm))\n",
    "\n",
    "pred_y_dec = c_dec.predict(test_x_vectors)\n",
    "print(\"DEC:\\n\",metrics.confusion_matrix(test_y, pred_y_dec))\n",
    "\n",
    "pred_y_gnb = c_gnb.predict(test_x_vectors.toarray())\n",
    "print(\"GNB:\\n\",metrics.confusion_matrix(test_y, pred_y_gnb))\n",
    "\n",
    "pred_y_logreg = c_logreg.predict(test_x_vectors)\n",
    "print(\"LOGREG:\\n\",metrics.confusion_matrix(test_y, pred_y_logreg))"
   ]
  },
  {
   "cell_type": "markdown",
   "id": "8aca8c2b-1936-465f-a06a-09d4a56f00cd",
   "metadata": {},
   "source": [
    "#### Save The Model"
   ]
  },
  {
   "cell_type": "markdown",
   "id": "a2d5aa19-f147-4b6a-b3ea-22d4f11dd446",
   "metadata": {},
   "source": [
    "We are going to save the SVM model"
   ]
  },
  {
   "cell_type": "code",
   "execution_count": 40,
   "id": "cfd4dd6d-366a-44ea-a3c1-4e48a3813e02",
   "metadata": {},
   "outputs": [],
   "source": [
    "import pickle\n",
    "with open('./svm_classifier.pk', 'wb') as f:\n",
    "    pickle.dump(c_svm, f)"
   ]
  }
 ],
 "metadata": {
  "kernelspec": {
   "display_name": "Python 3",
   "language": "python",
   "name": "python3"
  },
  "language_info": {
   "codemirror_mode": {
    "name": "ipython",
    "version": 3
   },
   "file_extension": ".py",
   "mimetype": "text/x-python",
   "name": "python",
   "nbconvert_exporter": "python",
   "pygments_lexer": "ipython3",
   "version": "3.8.8"
  }
 },
 "nbformat": 4,
 "nbformat_minor": 5
}
